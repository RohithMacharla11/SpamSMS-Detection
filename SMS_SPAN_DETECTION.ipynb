{
  "nbformat": 4,
  "nbformat_minor": 0,
  "metadata": {
    "colab": {
      "provenance": []
    },
    "kernelspec": {
      "name": "python3",
      "display_name": "Python 3"
    },
    "language_info": {
      "name": "python"
    }
  },
  "cells": [
    {
      "cell_type": "code",
      "execution_count": 1,
      "metadata": {
        "id": "TjePJs7L32ah",
        "colab": {
          "base_uri": "https://localhost:8080/"
        },
        "outputId": "cc9c5d4a-c766-42e8-d3ab-f73a58dafa01"
      },
      "outputs": [
        {
          "output_type": "stream",
          "name": "stderr",
          "text": [
            "[nltk_data] Downloading package punkt to /root/nltk_data...\n",
            "[nltk_data]   Package punkt is already up-to-date!\n",
            "[nltk_data] Downloading package stopwords to /root/nltk_data...\n",
            "[nltk_data]   Package stopwords is already up-to-date!\n",
            "[nltk_data] Downloading package wordnet to /root/nltk_data...\n",
            "[nltk_data]   Package wordnet is already up-to-date!\n"
          ]
        },
        {
          "output_type": "execute_result",
          "data": {
            "text/plain": [
              "True"
            ]
          },
          "metadata": {},
          "execution_count": 1
        }
      ],
      "source": [
        "import pandas as pd\n",
        "import re\n",
        "import nltk\n",
        "import pickle\n",
        "import numpy as np\n",
        "import matplotlib.pyplot as plt\n",
        "import seaborn as sns\n",
        "from nltk.corpus import stopwords\n",
        "from nltk.tokenize import word_tokenize\n",
        "from nltk.stem import WordNetLemmatizer\n",
        "from sklearn.feature_extraction.text import TfidfVectorizer\n",
        "from sklearn.model_selection import train_test_split\n",
        "from sklearn.metrics import accuracy_score, classification_report\n",
        "from sklearn.naive_bayes import MultinomialNB\n",
        "from sklearn.linear_model import LogisticRegression\n",
        "from sklearn.ensemble import RandomForestClassifier\n",
        "from sklearn.svm import SVC\n",
        "from imblearn.over_sampling import SMOTE\n",
        "from tensorflow.keras.models import Sequential\n",
        "from tensorflow.keras.layers import Embedding, LSTM, GRU, Dense, SpatialDropout1D\n",
        "from tensorflow.keras.preprocessing.text import Tokenizer\n",
        "from tensorflow.keras.preprocessing.sequence import pad_sequences\n",
        "from sklearn.preprocessing import LabelEncoder\n",
        "\n",
        "# Download necessary NLTK data\n",
        "nltk.download('punkt')\n",
        "nltk.download('stopwords')\n",
        "nltk.download('wordnet')"
      ]
    },
    {
      "cell_type": "code",
      "source": [
        "# Load dataset\n",
        "file_path = \"spam.csv\"\n",
        "df = pd.read_csv(file_path, encoding='latin-1')"
      ],
      "metadata": {
        "id": "FNY7sUVWRRHX"
      },
      "execution_count": 2,
      "outputs": []
    },
    {
      "cell_type": "code",
      "source": [
        "# Display first few rows\n",
        "print(\"First 5 Rows:\")\n",
        "print(df.head())"
      ],
      "metadata": {
        "colab": {
          "base_uri": "https://localhost:8080/"
        },
        "id": "4Stvu9PX39_H",
        "outputId": "e27e4c25-0b76-428c-adc5-ddbde38a9707"
      },
      "execution_count": 3,
      "outputs": [
        {
          "output_type": "stream",
          "name": "stdout",
          "text": [
            "First 5 Rows:\n",
            "     v1                                                 v2 Unnamed: 2  \\\n",
            "0   ham  Go until jurong point, crazy.. Available only ...        NaN   \n",
            "1   ham                      Ok lar... Joking wif u oni...        NaN   \n",
            "2  spam  Free entry in 2 a wkly comp to win FA Cup fina...        NaN   \n",
            "3   ham  U dun say so early hor... U c already then say...        NaN   \n",
            "4   ham  Nah I don't think he goes to usf, he lives aro...        NaN   \n",
            "\n",
            "  Unnamed: 3 Unnamed: 4  \n",
            "0        NaN        NaN  \n",
            "1        NaN        NaN  \n",
            "2        NaN        NaN  \n",
            "3        NaN        NaN  \n",
            "4        NaN        NaN  \n"
          ]
        }
      ]
    },
    {
      "cell_type": "code",
      "source": [
        "# Check basic information\n",
        "print(\"\\nDataset Info:\")\n",
        "print(df.info())"
      ],
      "metadata": {
        "colab": {
          "base_uri": "https://localhost:8080/"
        },
        "id": "qjH_jhDG392Q",
        "outputId": "4b3dace0-fe64-4601-86c7-451272c199f6"
      },
      "execution_count": 4,
      "outputs": [
        {
          "output_type": "stream",
          "name": "stdout",
          "text": [
            "\n",
            "Dataset Info:\n",
            "<class 'pandas.core.frame.DataFrame'>\n",
            "RangeIndex: 5572 entries, 0 to 5571\n",
            "Data columns (total 5 columns):\n",
            " #   Column      Non-Null Count  Dtype \n",
            "---  ------      --------------  ----- \n",
            " 0   v1          5572 non-null   object\n",
            " 1   v2          5572 non-null   object\n",
            " 2   Unnamed: 2  50 non-null     object\n",
            " 3   Unnamed: 3  12 non-null     object\n",
            " 4   Unnamed: 4  6 non-null      object\n",
            "dtypes: object(5)\n",
            "memory usage: 217.8+ KB\n",
            "None\n"
          ]
        }
      ]
    },
    {
      "cell_type": "code",
      "source": [
        "# Rename columns\n",
        "df = df.iloc[:, :2]  # Keep only the first two columns\n",
        "df.columns = [\"label\", \"message\"]  # Rename columns"
      ],
      "metadata": {
        "id": "tUBjxP6Z398O"
      },
      "execution_count": 5,
      "outputs": []
    },
    {
      "cell_type": "code",
      "source": [
        "#Check for missing values\n",
        "print(\"\\nMissing Values:\")\n",
        "print(df.isnull().sum())\n",
        "\n",
        "# Check for duplicate values\n",
        "print(\"\\nDuplicate Values:\", df.duplicated().sum())"
      ],
      "metadata": {
        "colab": {
          "base_uri": "https://localhost:8080/"
        },
        "id": "y56he3dK390M",
        "outputId": "2c15801c-5da5-488a-c6ff-f5d6c51623f6"
      },
      "execution_count": 6,
      "outputs": [
        {
          "output_type": "stream",
          "name": "stdout",
          "text": [
            "\n",
            "Missing Values:\n",
            "label      0\n",
            "message    0\n",
            "dtype: int64\n",
            "\n",
            "Duplicate Values: 403\n"
          ]
        }
      ]
    },
    {
      "cell_type": "code",
      "source": [
        "# Remove duplicate rows\n",
        "df = df.drop_duplicates()"
      ],
      "metadata": {
        "id": "wKalikgb4Och"
      },
      "execution_count": 7,
      "outputs": []
    },
    {
      "cell_type": "code",
      "source": [
        "print(\"Duplicate Values:\", df.duplicated().sum())"
      ],
      "metadata": {
        "colab": {
          "base_uri": "https://localhost:8080/"
        },
        "id": "iAEIG5pO4OZO",
        "outputId": "2b07becc-2094-411c-d324-e2263455a661"
      },
      "execution_count": 8,
      "outputs": [
        {
          "output_type": "stream",
          "name": "stdout",
          "text": [
            "Duplicate Values: 0\n"
          ]
        }
      ]
    },
    {
      "cell_type": "code",
      "source": [
        "# Display cleaned dataset info\n",
        "print(\"Dataset Info After Cleaning:\")\n",
        "print(df.info())"
      ],
      "metadata": {
        "colab": {
          "base_uri": "https://localhost:8080/"
        },
        "id": "YPLLFpf64OW-",
        "outputId": "e15c497f-4fb8-4979-95fb-12e77663ffd7"
      },
      "execution_count": 9,
      "outputs": [
        {
          "output_type": "stream",
          "name": "stdout",
          "text": [
            "Dataset Info After Cleaning:\n",
            "<class 'pandas.core.frame.DataFrame'>\n",
            "Index: 5169 entries, 0 to 5571\n",
            "Data columns (total 2 columns):\n",
            " #   Column   Non-Null Count  Dtype \n",
            "---  ------   --------------  ----- \n",
            " 0   label    5169 non-null   object\n",
            " 1   message  5169 non-null   object\n",
            "dtypes: object(2)\n",
            "memory usage: 121.1+ KB\n",
            "None\n"
          ]
        }
      ]
    },
    {
      "cell_type": "code",
      "source": [
        "# Convert labels to binary (optional)\n",
        "df[\"label\"] = df[\"label\"].map({\"ham\": 0, \"spam\": 1})  # Ham = 0, Spam = 1"
      ],
      "metadata": {
        "id": "4tbcB3RW394S"
      },
      "execution_count": 10,
      "outputs": []
    },
    {
      "cell_type": "code",
      "source": [
        "# Display class distribution\n",
        "print(\"\\nClass Distribution:\")\n",
        "print(df[\"label\"].value_counts())"
      ],
      "metadata": {
        "colab": {
          "base_uri": "https://localhost:8080/"
        },
        "id": "6l2Yr8Pr4OUw",
        "outputId": "980c3b06-b56a-4c5d-97bf-d5af9a25b284"
      },
      "execution_count": 11,
      "outputs": [
        {
          "output_type": "stream",
          "name": "stdout",
          "text": [
            "\n",
            "Class Distribution:\n",
            "label\n",
            "0    4516\n",
            "1     653\n",
            "Name: count, dtype: int64\n"
          ]
        }
      ]
    },
    {
      "cell_type": "code",
      "source": [
        "# Plot updated class distribution\n",
        "plt.figure(figsize=(6, 4))\n",
        "sns.countplot(x=df[\"label\"], palette=\"pastel\")\n",
        "plt.title(\"Spam vs Ham Distribution (Cleaned Data)\")\n",
        "plt.xlabel(\"Message Type (0 = Ham, 1 = Spam)\")\n",
        "plt.ylabel(\"Count\")\n",
        "plt.show()"
      ],
      "metadata": {
        "colab": {
          "base_uri": "https://localhost:8080/",
          "height": 521
        },
        "id": "q8KFktgO4OSm",
        "outputId": "8a2599ee-baea-441a-9e97-6b91f460545a"
      },
      "execution_count": 12,
      "outputs": [
        {
          "output_type": "stream",
          "name": "stderr",
          "text": [
            "<ipython-input-12-dc3c6a794d6a>:3: FutureWarning: \n",
            "\n",
            "Passing `palette` without assigning `hue` is deprecated and will be removed in v0.14.0. Assign the `x` variable to `hue` and set `legend=False` for the same effect.\n",
            "\n",
            "  sns.countplot(x=df[\"label\"], palette=\"pastel\")\n"
          ]
        },
        {
          "output_type": "display_data",
          "data": {
            "text/plain": [
              "<Figure size 600x400 with 1 Axes>"
            ],
            "image/png": "[encoded data removed]"
          },
          "metadata": {}
        }
      ]
    },
    {
      "cell_type": "code",
      "source": [
        "def preprocess_text(text):\n",
        "    text = text.lower()  # Convert to lowercase\n",
        "    text = re.sub(r'\\d+', '', text)  # Remove numbers\n",
        "    text = re.sub(r'\\W', ' ', text)  # Remove special characters\n",
        "    text = re.sub(r'\\s+', ' ', text).strip()  # Remove extra spaces\n",
        "    tokens = word_tokenize(text)  # Tokenization\n",
        "    stop_words = set(stopwords.words('english'))\n",
        "    tokens = [word for word in tokens if word not in stop_words]  # Remove stopwords\n",
        "    lemmatizer = WordNetLemmatizer()\n",
        "    tokens = [lemmatizer.lemmatize(word) for word in tokens]  # Lemmatization\n",
        "    return ' '.join(tokens)"
      ],
      "metadata": {
        "id": "ydqTj5EY44d5"
      },
      "execution_count": 13,
      "outputs": []
    },
    {
      "cell_type": "code",
      "source": [
        "df[\"message\"] = df[\"message\"].apply(preprocess_text)"
      ],
      "metadata": {
        "id": "d5I4GWE8Qtz1"
      },
      "execution_count": 14,
      "outputs": []
    },
    {
      "cell_type": "code",
      "source": [
        "X = df[\"message\"]\n",
        "y = df[\"label\"]\n",
        "X_train, X_test, y_train, y_test = train_test_split(X, y, test_size=0.2, random_state=42, stratify=y)\n"
      ],
      "metadata": {
        "id": "C2HHdozUQtxw"
      },
      "execution_count": 15,
      "outputs": []
    },
    {
      "cell_type": "code",
      "source": [
        "# Convert text into numerical features using TF-IDF\n",
        "vectorizer = TfidfVectorizer(max_features=5000)\n",
        "X_train_vectorized = vectorizer.fit_transform(X_train)\n",
        "X_test_vectorized = vectorizer.transform(X_test)"
      ],
      "metadata": {
        "id": "6kQhnTJxQtt5"
      },
      "execution_count": 16,
      "outputs": []
    },
    {
      "cell_type": "code",
      "source": [
        "# Save vectorizer for later use\n",
        "with open(\"tfidf_vectorizer.pkl\", \"wb\") as vectorizer_file:\n",
        "    pickle.dump(vectorizer, vectorizer_file)"
      ],
      "metadata": {
        "id": "f4fCsdObppIm"
      },
      "execution_count": 20,
      "outputs": []
    },
    {
      "cell_type": "code",
      "source": [
        "# Handle class imbalance using SMOTE\n",
        "smote = SMOTE(random_state=42)\n",
        "X_train_resampled, y_train_resampled = smote.fit_resample(X_train_vectorized, y_train)\n"
      ],
      "metadata": {
        "id": "Fayx3n6xQtsB"
      },
      "execution_count": 17,
      "outputs": []
    },
    {
      "cell_type": "code",
      "source": [
        "# Show updated dataset info\n",
        "print(\"Dataset Info After Preprocessing:\")\n",
        "print(df.info())"
      ],
      "metadata": {
        "colab": {
          "base_uri": "https://localhost:8080/"
        },
        "id": "H4Z_WjefQtp9",
        "outputId": "79c81acb-cf7c-4677-8356-0253facfc1cb"
      },
      "execution_count": 18,
      "outputs": [
        {
          "output_type": "stream",
          "name": "stdout",
          "text": [
            "Dataset Info After Preprocessing:\n",
            "<class 'pandas.core.frame.DataFrame'>\n",
            "Index: 5169 entries, 0 to 5571\n",
            "Data columns (total 2 columns):\n",
            " #   Column   Non-Null Count  Dtype \n",
            "---  ------   --------------  ----- \n",
            " 0   label    5169 non-null   int64 \n",
            " 1   message  5169 non-null   object\n",
            "dtypes: int64(1), object(1)\n",
            "memory usage: 121.1+ KB\n",
            "None\n"
          ]
        }
      ]
    },
    {
      "cell_type": "code",
      "source": [
        "# Show new class distribution after balancing\n",
        "print(\"\\nUpdated Class Distribution After SMOTE:\")\n",
        "print(pd.Series(y_train_resampled).value_counts())"
      ],
      "metadata": {
        "colab": {
          "base_uri": "https://localhost:8080/"
        },
        "id": "aVJ-yclTQtoH",
        "outputId": "944f166f-369c-4d9b-f9f3-0e7cc1c94740"
      },
      "execution_count": 21,
      "outputs": [
        {
          "output_type": "stream",
          "name": "stdout",
          "text": [
            "\n",
            "Updated Class Distribution After SMOTE:\n",
            "label\n",
            "0    3613\n",
            "1    3613\n",
            "Name: count, dtype: int64\n"
          ]
        }
      ]
    },
    {
      "cell_type": "code",
      "source": [
        "# Save processed data\n",
        "import pickle\n",
        "with open(\"processed_data.pkl\", \"wb\") as f:\n",
        "    pickle.dump((X_train_vectorized, X_test_vectorized, y_train, y_test, vectorizer), f)\n",
        "\n",
        "print(\"✅ Data Preprocessing Complete & Saved!\")"
      ],
      "metadata": {
        "colab": {
          "base_uri": "https://localhost:8080/"
        },
        "id": "1d-43y_-pKL-",
        "outputId": "655d0355-94e1-4fc9-a344-75906ca97dbb"
      },
      "execution_count": 22,
      "outputs": [
        {
          "output_type": "stream",
          "name": "stdout",
          "text": [
            "✅ Data Preprocessing Complete & Saved!\n"
          ]
        }
      ]
    },
    {
      "cell_type": "code",
      "source": [
        "from sklearn.naive_bayes import MultinomialNB\n",
        "from sklearn.metrics import accuracy_score, classification_report\n",
        "import pickle\n",
        "\n",
        "nb_model = MultinomialNB()\n",
        "nb_model.fit(X_train_resampled, y_train_resampled)\n",
        "\n",
        "y_pred_nb = nb_model.predict(X_test_vectorized)\n",
        "\n",
        "print(f\"✅ Naïve Bayes Accuracy: {accuracy_score(y_test, y_pred_nb):.4f}\")\n",
        "print(f\"📊 Classification Report:\\n{classification_report(y_test, y_pred_nb)}\")\n",
        "\n",
        "# Save model\n",
        "with open(\"nb_model.pkl\", \"wb\") as model_file:\n",
        "    pickle.dump(nb_model, model_file)\n",
        "\n",
        "print(\"✅ Naïve Bayes Model Saved!\")\n"
      ],
      "metadata": {
        "colab": {
          "base_uri": "https://localhost:8080/"
        },
        "id": "2d67BqgVQtkV",
        "outputId": "ae638689-b2ad-42b8-cb08-a7c908e9ac19"
      },
      "execution_count": 23,
      "outputs": [
        {
          "output_type": "stream",
          "name": "stdout",
          "text": [
            "✅ Naïve Bayes Accuracy: 0.9594\n",
            "📊 Classification Report:\n",
            "              precision    recall  f1-score   support\n",
            "\n",
            "           0       0.99      0.96      0.98       903\n",
            "           1       0.78      0.94      0.85       131\n",
            "\n",
            "    accuracy                           0.96      1034\n",
            "   macro avg       0.89      0.95      0.92      1034\n",
            "weighted avg       0.96      0.96      0.96      1034\n",
            "\n",
            "✅ Naïve Bayes Model Saved!\n"
          ]
        }
      ]
    },
    {
      "cell_type": "code",
      "source": [
        "from sklearn.linear_model import LogisticRegression\n",
        "\n",
        "lr_model = LogisticRegression(max_iter=500)\n",
        "lr_model.fit(X_train_resampled, y_train_resampled)\n",
        "\n",
        "y_pred_lr = lr_model.predict(X_test_vectorized)\n",
        "\n",
        "print(f\"✅ Logistic Regression Accuracy: {accuracy_score(y_test, y_pred_lr):.4f}\")\n",
        "print(f\"📊 Classification Report:\\n{classification_report(y_test, y_pred_lr)}\")\n",
        "\n",
        "# Save model\n",
        "with open(\"lr_model.pkl\", \"wb\") as model_file:\n",
        "    pickle.dump(lr_model, model_file)\n",
        "\n",
        "print(\"✅ Logistic Regression Model Saved!\")\n"
      ],
      "metadata": {
        "colab": {
          "base_uri": "https://localhost:8080/"
        },
        "id": "GhLgYk9hn8Wp",
        "outputId": "9f992e67-68a6-4908-93b2-8e5cb8e0143e"
      },
      "execution_count": 24,
      "outputs": [
        {
          "output_type": "stream",
          "name": "stdout",
          "text": [
            "✅ Logistic Regression Accuracy: 0.9758\n",
            "📊 Classification Report:\n",
            "              precision    recall  f1-score   support\n",
            "\n",
            "           0       0.99      0.98      0.99       903\n",
            "           1       0.90      0.92      0.91       131\n",
            "\n",
            "    accuracy                           0.98      1034\n",
            "   macro avg       0.94      0.95      0.95      1034\n",
            "weighted avg       0.98      0.98      0.98      1034\n",
            "\n",
            "✅ Logistic Regression Model Saved!\n"
          ]
        }
      ]
    },
    {
      "cell_type": "code",
      "source": [
        "from sklearn.ensemble import RandomForestClassifier\n",
        "\n",
        "rf_model = RandomForestClassifier(n_estimators=100)\n",
        "rf_model.fit(X_train_resampled, y_train_resampled)\n",
        "\n",
        "y_pred_rf = rf_model.predict(X_test_vectorized)\n",
        "\n",
        "print(f\"✅ Random Forest Accuracy: {accuracy_score(y_test, y_pred_rf):.4f}\")\n",
        "print(f\"📊 Classification Report:\\n{classification_report(y_test, y_pred_rf)}\")\n",
        "\n",
        "# Save model\n",
        "with open(\"rf_model.pkl\", \"wb\") as model_file:\n",
        "    pickle.dump(rf_model, model_file)\n",
        "\n",
        "print(\"✅ Random Forest Model Saved!\")\n"
      ],
      "metadata": {
        "colab": {
          "base_uri": "https://localhost:8080/"
        },
        "id": "Uf3u_Ju2QtiN",
        "outputId": "92dbe8a8-6aa2-479e-8a24-c4580e07f05e"
      },
      "execution_count": 25,
      "outputs": [
        {
          "output_type": "stream",
          "name": "stdout",
          "text": [
            "✅ Random Forest Accuracy: 0.9797\n",
            "📊 Classification Report:\n",
            "              precision    recall  f1-score   support\n",
            "\n",
            "           0       0.98      1.00      0.99       903\n",
            "           1       0.99      0.85      0.91       131\n",
            "\n",
            "    accuracy                           0.98      1034\n",
            "   macro avg       0.98      0.92      0.95      1034\n",
            "weighted avg       0.98      0.98      0.98      1034\n",
            "\n",
            "✅ Random Forest Model Saved!\n"
          ]
        }
      ]
    },
    {
      "cell_type": "code",
      "source": [
        "from sklearn.svm import SVC\n",
        "\n",
        "svm_model = SVC(kernel=\"linear\", C=1.0)\n",
        "svm_model.fit(X_train_resampled, y_train_resampled)\n",
        "\n",
        "y_pred_svm = svm_model.predict(X_test_vectorized)\n",
        "\n",
        "print(f\"✅ SVM Accuracy: {accuracy_score(y_test, y_pred_svm):.4f}\")\n",
        "print(f\"📊 Classification Report:\\n{classification_report(y_test, y_pred_svm)}\")\n",
        "\n",
        "# Save model\n",
        "with open(\"svm_model.pkl\", \"wb\") as model_file:\n",
        "    pickle.dump(svm_model, model_file)\n",
        "\n",
        "print(\"✅ SVM Model Saved!\")\n"
      ],
      "metadata": {
        "colab": {
          "base_uri": "https://localhost:8080/"
        },
        "id": "cBUN2-g0QtgM",
        "outputId": "55c480dd-dc66-4a3b-a900-0a38f54da93b"
      },
      "execution_count": 26,
      "outputs": [
        {
          "output_type": "stream",
          "name": "stdout",
          "text": [
            "✅ SVM Accuracy: 0.9807\n",
            "📊 Classification Report:\n",
            "              precision    recall  f1-score   support\n",
            "\n",
            "           0       0.99      0.99      0.99       903\n",
            "           1       0.92      0.93      0.92       131\n",
            "\n",
            "    accuracy                           0.98      1034\n",
            "   macro avg       0.95      0.96      0.96      1034\n",
            "weighted avg       0.98      0.98      0.98      1034\n",
            "\n",
            "✅ SVM Model Saved!\n"
          ]
        }
      ]
    },
    {
      "cell_type": "code",
      "source": [
        "\n",
        "import matplotlib.pyplot as plt\n",
        "import numpy as np\n",
        "from sklearn.metrics import accuracy_score, precision_score, recall_score, f1_score\n",
        "\n",
        "# Assuming you have y_test and predictions for each model (y_pred_nb, y_pred_lr, y_pred_rf, y_pred_svm)\n",
        "\n",
        "models = ['Naive Bayes', 'Logistic Regression', 'Random Forest', 'SVM']\n",
        "y_preds = [y_pred_nb, y_pred_lr, y_pred_rf, y_pred_svm]\n",
        "\n",
        "# Create lists to store evaluation metrics\n",
        "accuracy_scores = []\n",
        "precision_scores = []\n",
        "recall_scores = []\n",
        "f1_scores = []\n",
        "\n",
        "for y_pred in y_preds:\n",
        "  accuracy_scores.append(accuracy_score(y_test, y_pred))\n",
        "  precision_scores.append(precision_score(y_test, y_pred, zero_division=0))\n",
        "  recall_scores.append(recall_score(y_test, y_pred, zero_division=0))\n",
        "  f1_scores.append(f1_score(y_test, y_pred, zero_division=0))\n",
        "\n",
        "# Create a bar plot\n",
        "x = np.arange(len(models))\n",
        "width = 0.2\n",
        "\n",
        "fig, ax = plt.subplots(figsize=(10, 6))\n",
        "rects1 = ax.bar(x - 1.5 * width, accuracy_scores, width, label='Accuracy')\n",
        "rects2 = ax.bar(x - 0.5 * width, precision_scores, width, label='Precision')\n",
        "rects3 = ax.bar(x + 0.5 * width, recall_scores, width, label='Recall')\n",
        "rects4 = ax.bar(x + 1.5 * width, f1_scores, width, label='F1-Score')\n",
        "\n",
        "# Add some text for labels, title and custom x-axis tick labels, etc.\n",
        "ax.set_ylabel('Scores')\n",
        "ax.set_title('Model Performance Comparison')\n",
        "ax.set_xticks(x)\n",
        "ax.set_xticklabels(models)\n",
        "ax.legend()\n",
        "\n",
        "# Adjust layout to prevent overlapping\n",
        "fig.tight_layout()\n",
        "\n",
        "plt.show()"
      ],
      "metadata": {
        "colab": {
          "base_uri": "https://localhost:8080/",
          "height": 416
        },
        "id": "7nJdBcQUx2cD",
        "outputId": "bc1aba19-fe32-48ac-ad8d-ea1cbc790bb0"
      },
      "execution_count": 36,
      "outputs": [
        {
          "output_type": "display_data",
          "data": {
            "text/plain": [
              "<Figure size 1000x600 with 1 Axes>"
            ],
            "image/png": "[encoded data removed]"
          },
          "metadata": {}
        }
      ]
    },
    {
      "cell_type": "code",
      "source": [
        "import tensorflow as tf\n",
        "from tensorflow.keras.models import Sequential\n",
        "from tensorflow.keras.layers import Embedding, LSTM, Dense, SpatialDropout1D\n",
        "from tensorflow.keras.preprocessing.sequence import pad_sequences\n",
        "from tensorflow.keras.preprocessing.text import Tokenizer\n",
        "from sklearn.preprocessing import LabelEncoder\n",
        "\n",
        "# Tokenize text\n",
        "tokenizer = Tokenizer(num_words=5000)\n",
        "tokenizer.fit_on_texts(X_train)\n",
        "\n",
        "X_train_seq = tokenizer.texts_to_sequences(X_train)\n",
        "X_test_seq = tokenizer.texts_to_sequences(X_test)\n",
        "\n",
        "# Pad sequences\n",
        "max_length = max(len(seq) for seq in X_train_seq)\n",
        "X_train_pad = pad_sequences(X_train_seq, maxlen=max_length, padding=\"post\")\n",
        "X_test_pad = pad_sequences(X_test_seq, maxlen=max_length, padding=\"post\")\n",
        "\n",
        "# Encode labels\n",
        "label_encoder = LabelEncoder()\n",
        "y_train_enc = label_encoder.fit_transform(y_train)\n",
        "y_test_enc = label_encoder.transform(y_test)\n",
        "\n",
        "# Build LSTM Model\n",
        "lstm_model = Sequential([\n",
        "    Embedding(input_dim=5000, output_dim=128, input_length=max_length),\n",
        "    SpatialDropout1D(0.2),\n",
        "    LSTM(100),\n",
        "    Dense(1, activation=\"sigmoid\")\n",
        "])\n",
        "\n",
        "lstm_model.compile(loss=\"binary_crossentropy\", optimizer=\"adam\", metrics=[\"accuracy\"])\n",
        "\n",
        "# Train model\n",
        "lstm_model.fit(X_train_pad, y_train_enc, epochs=10, batch_size=32, validation_data=(X_test_pad, y_test_enc))\n",
        "\n",
        "# Save model\n",
        "lstm_model.save(\"lstm_model.keras\")\n",
        "\n",
        "print(\"✅ LSTM Model Saved!\")\n"
      ],
      "metadata": {
        "colab": {
          "base_uri": "https://localhost:8080/"
        },
        "id": "IANbbtClQteR",
        "outputId": "f1f87c50-0e1e-4859-e90a-565e60b7fbab"
      },
      "execution_count": 27,
      "outputs": [
        {
          "output_type": "stream",
          "name": "stdout",
          "text": [
            "Epoch 1/10\n"
          ]
        },
        {
          "output_type": "stream",
          "name": "stderr",
          "text": [
            "/usr/local/lib/python3.11/dist-packages/keras/src/layers/core/embedding.py:90: UserWarning: Argument `input_length` is deprecated. Just remove it.\n",
            "  warnings.warn(\n"
          ]
        },
        {
          "output_type": "stream",
          "name": "stdout",
          "text": [
            "\u001b[1m130/130\u001b[0m \u001b[32m━━━━━━━━━━━━━━━━━━━━\u001b[0m\u001b[37m\u001b[0m \u001b[1m23s\u001b[0m 159ms/step - accuracy: 0.8427 - loss: 0.4158 - val_accuracy: 0.8733 - val_loss: 0.3829\n",
            "Epoch 2/10\n",
            "\u001b[1m130/130\u001b[0m \u001b[32m━━━━━━━━━━━━━━━━━━━━\u001b[0m\u001b[37m\u001b[0m \u001b[1m12s\u001b[0m 92ms/step - accuracy: 0.8666 - loss: 0.3950 - val_accuracy: 0.8733 - val_loss: 0.3856\n",
            "Epoch 3/10\n",
            "\u001b[1m130/130\u001b[0m \u001b[32m━━━━━━━━━━━━━━━━━━━━\u001b[0m\u001b[37m\u001b[0m \u001b[1m12s\u001b[0m 91ms/step - accuracy: 0.8635 - loss: 0.4014 - val_accuracy: 0.8733 - val_loss: 0.3894\n",
            "Epoch 4/10\n",
            "\u001b[1m130/130\u001b[0m \u001b[32m━━━━━━━━━━━━━━━━━━━━\u001b[0m\u001b[37m\u001b[0m \u001b[1m22s\u001b[0m 102ms/step - accuracy: 0.8728 - loss: 0.3851 - val_accuracy: 0.8733 - val_loss: 0.3831\n",
            "Epoch 5/10\n",
            "\u001b[1m130/130\u001b[0m \u001b[32m━━━━━━━━━━━━━━━━━━━━\u001b[0m\u001b[37m\u001b[0m \u001b[1m20s\u001b[0m 96ms/step - accuracy: 0.8713 - loss: 0.3861 - val_accuracy: 0.8733 - val_loss: 0.3805\n",
            "Epoch 6/10\n",
            "\u001b[1m130/130\u001b[0m \u001b[32m━━━━━━━━━━━━━━━━━━━━\u001b[0m\u001b[37m\u001b[0m \u001b[1m19s\u001b[0m 83ms/step - accuracy: 0.8794 - loss: 0.3708 - val_accuracy: 0.8733 - val_loss: 0.3809\n",
            "Epoch 7/10\n",
            "\u001b[1m130/130\u001b[0m \u001b[32m━━━━━━━━━━━━━━━━━━━━\u001b[0m\u001b[37m\u001b[0m \u001b[1m22s\u001b[0m 97ms/step - accuracy: 0.8753 - loss: 0.3768 - val_accuracy: 0.8733 - val_loss: 0.3807\n",
            "Epoch 8/10\n",
            "\u001b[1m130/130\u001b[0m \u001b[32m━━━━━━━━━━━━━━━━━━━━\u001b[0m\u001b[37m\u001b[0m \u001b[1m20s\u001b[0m 91ms/step - accuracy: 0.8761 - loss: 0.3750 - val_accuracy: 0.8733 - val_loss: 0.3823\n",
            "Epoch 9/10\n",
            "\u001b[1m130/130\u001b[0m \u001b[32m━━━━━━━━━━━━━━━━━━━━\u001b[0m\u001b[37m\u001b[0m \u001b[1m12s\u001b[0m 93ms/step - accuracy: 0.8725 - loss: 0.3819 - val_accuracy: 0.8733 - val_loss: 0.3802\n",
            "Epoch 10/10\n",
            "\u001b[1m130/130\u001b[0m \u001b[32m━━━━━━━━━━━━━━━━━━━━\u001b[0m\u001b[37m\u001b[0m \u001b[1m21s\u001b[0m 96ms/step - accuracy: 0.8777 - loss: 0.3726 - val_accuracy: 0.8733 - val_loss: 0.3804\n",
            "✅ LSTM Model Saved!\n"
          ]
        }
      ]
    },
    {
      "cell_type": "code",
      "source": [
        "from tensorflow.keras.layers import GRU\n",
        "\n",
        "gru_model = Sequential([\n",
        "    Embedding(input_dim=5000, output_dim=128, input_length=max_length),\n",
        "    SpatialDropout1D(0.2),\n",
        "    GRU(100),\n",
        "    Dense(1, activation=\"sigmoid\")\n",
        "])\n",
        "\n",
        "gru_model.compile(loss=\"binary_crossentropy\", optimizer=\"adam\", metrics=[\"accuracy\"])\n",
        "\n",
        "# Train model\n",
        "gru_model.fit(X_train_pad, y_train_enc, epochs=10, batch_size=32, validation_data=(X_test_pad, y_test_enc))\n",
        "\n",
        "# Save model\n",
        "gru_model.save(\"gru_model.keras\")\n",
        "\n",
        "print(\"✅ GRU Model Saved!\")\n"
      ],
      "metadata": {
        "colab": {
          "base_uri": "https://localhost:8080/"
        },
        "id": "kDzYwgCmQtcc",
        "outputId": "f0c3b63f-8922-49e3-dd7c-c9eb6a0a6e32"
      },
      "execution_count": 28,
      "outputs": [
        {
          "output_type": "stream",
          "name": "stdout",
          "text": [
            "Epoch 1/10\n",
            "\u001b[1m130/130\u001b[0m \u001b[32m━━━━━━━━━━━━━━━━━━━━\u001b[0m\u001b[37m\u001b[0m \u001b[1m18s\u001b[0m 108ms/step - accuracy: 0.8760 - loss: 0.4241 - val_accuracy: 0.8733 - val_loss: 0.3809\n",
            "Epoch 2/10\n",
            "\u001b[1m130/130\u001b[0m \u001b[32m━━━━━━━━━━━━━━━━━━━━\u001b[0m\u001b[37m\u001b[0m \u001b[1m11s\u001b[0m 88ms/step - accuracy: 0.8790 - loss: 0.3704 - val_accuracy: 0.8733 - val_loss: 0.3807\n",
            "Epoch 3/10\n",
            "\u001b[1m130/130\u001b[0m \u001b[32m━━━━━━━━━━━━━━━━━━━━\u001b[0m\u001b[37m\u001b[0m \u001b[1m20s\u001b[0m 84ms/step - accuracy: 0.8783 - loss: 0.3736 - val_accuracy: 0.8733 - val_loss: 0.3826\n",
            "Epoch 4/10\n",
            "\u001b[1m130/130\u001b[0m \u001b[32m━━━━━━━━━━━━━━━━━━━━\u001b[0m\u001b[37m\u001b[0m \u001b[1m11s\u001b[0m 84ms/step - accuracy: 0.8678 - loss: 0.3918 - val_accuracy: 0.8733 - val_loss: 0.3835\n",
            "Epoch 5/10\n",
            "\u001b[1m130/130\u001b[0m \u001b[32m━━━━━━━━━━━━━━━━━━━━\u001b[0m\u001b[37m\u001b[0m \u001b[1m20s\u001b[0m 83ms/step - accuracy: 0.8627 - loss: 0.4031 - val_accuracy: 0.8733 - val_loss: 0.3806\n",
            "Epoch 6/10\n",
            "\u001b[1m130/130\u001b[0m \u001b[32m━━━━━━━━━━━━━━━━━━━━\u001b[0m\u001b[37m\u001b[0m \u001b[1m10s\u001b[0m 79ms/step - accuracy: 0.8788 - loss: 0.3715 - val_accuracy: 0.8733 - val_loss: 0.3815\n",
            "Epoch 7/10\n",
            "\u001b[1m130/130\u001b[0m \u001b[32m━━━━━━━━━━━━━━━━━━━━\u001b[0m\u001b[37m\u001b[0m \u001b[1m21s\u001b[0m 83ms/step - accuracy: 0.8773 - loss: 0.3736 - val_accuracy: 0.8733 - val_loss: 0.3810\n",
            "Epoch 8/10\n",
            "\u001b[1m130/130\u001b[0m \u001b[32m━━━━━━━━━━━━━━━━━━━━\u001b[0m\u001b[37m\u001b[0m \u001b[1m21s\u001b[0m 85ms/step - accuracy: 0.8676 - loss: 0.3923 - val_accuracy: 0.8733 - val_loss: 0.3804\n",
            "Epoch 9/10\n",
            "\u001b[1m130/130\u001b[0m \u001b[32m━━━━━━━━━━━━━━━━━━━━\u001b[0m\u001b[37m\u001b[0m \u001b[1m11s\u001b[0m 84ms/step - accuracy: 0.8724 - loss: 0.3835 - val_accuracy: 0.8733 - val_loss: 0.3812\n",
            "Epoch 10/10\n",
            "\u001b[1m130/130\u001b[0m \u001b[32m━━━━━━━━━━━━━━━━━━━━\u001b[0m\u001b[37m\u001b[0m \u001b[1m20s\u001b[0m 80ms/step - accuracy: 0.8697 - loss: 0.3896 - val_accuracy: 0.8733 - val_loss: 0.3804\n",
            "✅ GRU Model Saved!\n"
          ]
        }
      ]
    },
    {
      "cell_type": "code",
      "source": [
        "import matplotlib.pyplot as plt\n",
        "import numpy as np\n",
        "from sklearn.metrics import accuracy_score, precision_score, recall_score, f1_score\n",
        "\n",
        "# Assuming you have already trained and made predictions for LSTM and GRU models\n",
        "# Replace these with your actual predictions\n",
        "y_pred_lstm = lstm_model.predict(X_test_pad)\n",
        "y_pred_gru = gru_model.predict(X_test_pad)\n",
        "\n",
        "# Convert predictions to binary (0 or 1)\n",
        "y_pred_lstm = (y_pred_lstm > 0.5).astype(\"int32\")\n",
        "y_pred_gru = (y_pred_gru > 0.5).astype(\"int32\")\n",
        "\n",
        "\n",
        "models = ['Naive Bayes', 'Logistic Regression', 'Random Forest', 'SVM', 'LSTM', 'GRU']\n",
        "y_preds = [y_pred_nb, y_pred_lr, y_pred_rf, y_pred_svm, y_pred_lstm, y_pred_gru]\n",
        "\n",
        "# Create lists to store evaluation metrics\n",
        "accuracy_scores = []\n",
        "\n",
        "for y_pred in y_preds:\n",
        "  accuracy_scores.append(accuracy_score(y_test, y_pred))\n",
        "\n",
        "\n",
        "# Create a bar plot\n",
        "x = np.arange(len(models))\n",
        "width = 0.4  # Adjust bar width as needed\n",
        "\n",
        "\n",
        "fig, ax = plt.subplots(figsize=(12, 6))\n",
        "rects1 = ax.bar(x, accuracy_scores, width, label='Accuracy')\n",
        "\n",
        "# Add some text for labels, title and custom x-axis tick labels, etc.\n",
        "ax.set_ylabel('Accuracy')\n",
        "ax.set_title('Model Accuracy Comparison')\n",
        "ax.set_xticks(x)\n",
        "ax.set_xticklabels(models)\n",
        "ax.legend()\n",
        "\n",
        "# Adjust layout to prevent overlapping\n",
        "fig.tight_layout()\n",
        "\n",
        "plt.show()\n"
      ],
      "metadata": {
        "colab": {
          "base_uri": "https://localhost:8080/",
          "height": 385
        },
        "id": "SVNtAbjfxx10",
        "outputId": "96e3e0f3-efe5-4391-847f-371b820f48b7"
      },
      "execution_count": 35,
      "outputs": [
        {
          "output_type": "stream",
          "name": "stdout",
          "text": [
            "\u001b[1m33/33\u001b[0m \u001b[32m━━━━━━━━━━━━━━━━━━━━\u001b[0m\u001b[37m\u001b[0m \u001b[1m1s\u001b[0m 36ms/step\n",
            "\u001b[1m33/33\u001b[0m \u001b[32m━━━━━━━━━━━━━━━━━━━━\u001b[0m\u001b[37m\u001b[0m \u001b[1m1s\u001b[0m 27ms/step\n"
          ]
        },
        {
          "output_type": "display_data",
          "data": {
            "text/plain": [
              "<Figure size 1200x600 with 1 Axes>"
            ],
            "image/png": "[encoded data removed]"
          },
          "metadata": {}
        }
      ]
    },
    {
      "cell_type": "code",
      "source": [
        "import pickle\n",
        "from sklearn.feature_extraction.text import TfidfVectorizer\n",
        "from sklearn.ensemble import RandomForestClassifier\n",
        "\n",
        "# Save TF-IDF Vectorizer\n",
        "tfidf_vectorizer = TfidfVectorizer(max_features=5000)\n",
        "\n",
        "# Impute missing values with an empty string before fitting the vectorizer\n",
        "df['clean_text'] = df['clean_text'].fillna('')\n",
        "\n",
        "X_tfidf = tfidf_vectorizer.fit_transform(df['clean_text'])\n",
        "\n",
        "# Train Final Random Forest Model\n",
        "final_rf_model = RandomForestClassifier(n_estimators=100, random_state=42)\n",
        "final_rf_model.fit(X_tfidf, df['label'])\n",
        "\n",
        "# Save Model & Vectorizer\n",
        "with open(\"spam_detector.pkl\", \"wb\") as model_file:\n",
        "    pickle.dump(final_rf_model, model_file)\n",
        "\n",
        "with open(\"tfidf_vectorizer.pkl\", \"wb\") as vectorizer_file:\n",
        "    pickle.dump(tfidf_vectorizer, vectorizer_file)\n",
        "\n",
        "print(\"✅ Model & Vectorizer Saved Successfully!\")"
      ],
      "metadata": {
        "colab": {
          "base_uri": "https://localhost:8080/"
        },
        "id": "gpK1q3J4QtUq",
        "outputId": "d77e9bc0-66bf-4e70-8c35-c95b16f10731"
      },
      "execution_count": 86,
      "outputs": [
        {
          "output_type": "stream",
          "name": "stdout",
          "text": [
            "✅ Model & Vectorizer Saved Successfully!\n"
          ]
        }
      ]
    },
    {
      "cell_type": "code",
      "source": [
        "import pickle\n",
        "import numpy as np\n",
        "\n",
        "# Load Model & Vectorizer\n",
        "with open(\"rf_model.pkl\", \"rb\") as model_file:\n",
        "    loaded_model = pickle.load(model_file)\n",
        "\n",
        "with open(\"tfidf_vectorizer.pkl\", \"rb\") as vectorizer_file:\n",
        "    loaded_vectorizer = pickle.load(vectorizer_file)\n",
        "\n",
        "# Function to Predict Spam/Ham\n",
        "def predict_sms(text):\n",
        "    text_cleaned = preprocess_text(text)  # Error occurs here\n",
        "    text_tfidf = loaded_vectorizer.transform([text_cleaned])\n",
        "    prediction = loaded_model.predict(text_tfidf)\n",
        "    return \"Spam\" if prediction == 1 else \"Ham\"\n",
        "\n",
        "# Example Usage\n",
        "print(predict_sms(\"Congratulations! You won a free trip to Dubai!\"))\n",
        "print(predict_sms(\"WINNER!! As a valued network customer you have been selected to receivea �900 prize reward! To claim call 09061701461. Claim code KL341. Valid 12 hours only\"))\n",
        "print(predict_sms(\"URGENT: Your bank account has been compromised. Verify details now!\"))\n"
      ],
      "metadata": {
        "colab": {
          "base_uri": "https://localhost:8080/"
        },
        "id": "5ofI8YzEQtQu",
        "outputId": "f42cfd37-8264-4bcf-a37e-ae837846f327"
      },
      "execution_count": 31,
      "outputs": [
        {
          "output_type": "stream",
          "name": "stdout",
          "text": [
            "Ham\n",
            "Spam\n",
            "Ham\n"
          ]
        }
      ]
    },
    {
      "cell_type": "code",
      "source": [],
      "metadata": {
        "id": "ex4l5l6BWrR6"
      },
      "execution_count": null,
      "outputs": []
    },
    {
      "cell_type": "code",
      "source": [],
      "metadata": {
        "id": "w81BBiQsWrP3"
      },
      "execution_count": null,
      "outputs": []
    },
    {
      "cell_type": "code",
      "source": [],
      "metadata": {
        "id": "oO1eYDDPWrN4"
      },
      "execution_count": null,
      "outputs": []
    },
    {
      "cell_type": "code",
      "source": [],
      "metadata": {
        "id": "Sv8_fl2HWrMC"
      },
      "execution_count": null,
      "outputs": []
    },
    {
      "cell_type": "code",
      "source": [],
      "metadata": {
        "id": "wKvuAqx_WrKQ"
      },
      "execution_count": null,
      "outputs": []
    },
    {
      "cell_type": "code",
      "source": [],
      "metadata": {
        "id": "I84AU4DaWrII"
      },
      "execution_count": null,
      "outputs": []
    },
    {
      "cell_type": "code",
      "source": [],
      "metadata": {
        "id": "WMVr80toWrGE"
      },
      "execution_count": null,
      "outputs": []
    },
    {
      "cell_type": "code",
      "source": [],
      "metadata": {
        "id": "br8kDxT7WrES"
      },
      "execution_count": null,
      "outputs": []
    },
    {
      "cell_type": "code",
      "source": [],
      "metadata": {
        "id": "8wqqkmWrWrBk"
      },
      "execution_count": null,
      "outputs": []
    }
  ]
}